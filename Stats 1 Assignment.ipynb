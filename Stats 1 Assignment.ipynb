{
 "cells": [
  {
   "cell_type": "code",
   "execution_count": 1,
   "metadata": {},
   "outputs": [],
   "source": [
    "#Calculate the mean, median, mode and standard deviation for the problem\n",
    "#statements 1& 2.\n",
    "\n",
    "#Problem Statement 1:\n",
    "#The marks awarded for an assignment set for a Year 8 class of 20 students were as\n",
    "#follows:\n",
    "#6 7 5 7 7 8 7 6 9 7 4 10 6 8 8 9 5 6 4 8"
   ]
  },
  {
   "cell_type": "code",
   "execution_count": 2,
   "metadata": {},
   "outputs": [],
   "source": [
    "import statistics\n",
    "import math\n",
    "import pandas as pd\n",
    "import numpy as np"
   ]
  },
  {
   "cell_type": "code",
   "execution_count": 3,
   "metadata": {},
   "outputs": [
    {
     "data": {
      "text/plain": [
       "6.85"
      ]
     },
     "execution_count": 3,
     "metadata": {},
     "output_type": "execute_result"
    }
   ],
   "source": [
    "# mean is avarage of given number\n",
    "#method 1\n",
    "#mean=(sum of total number)/count of total number \n",
    "#(6+7+5+7+7+8+7+6+9+7+4+10+6+8+8+9+5+6+4+8)=137\n",
    "#137/20=6.85\n",
    "# So, mean of 6 7 5 7 7 8 7 6 9 7 4 10 6 8 8 9 5 6 4 8 = 6.85\n",
    "#method 2\n",
    "num = [6 ,7, 5, 7, 7, 8, 7, 6, 9, 7, 4, 10, 6, 8, 8, 9, 5, 6, 4, 8] \n",
    "n = len(num)   \n",
    "total = sum(num) \n",
    "mean = total / n \n",
    "mean"
   ]
  },
  {
   "cell_type": "code",
   "execution_count": 4,
   "metadata": {},
   "outputs": [
    {
     "data": {
      "text/plain": [
       "6.85"
      ]
     },
     "execution_count": 4,
     "metadata": {},
     "output_type": "execute_result"
    }
   ],
   "source": [
    "#method 3\n",
    "statistics.mean([6 ,7, 5, 7, 7, 8, 7, 6, 9, 7, 4, 10, 6, 8, 8, 9, 5, 6, 4, 8])"
   ]
  },
  {
   "cell_type": "code",
   "execution_count": 5,
   "metadata": {},
   "outputs": [
    {
     "name": "stdout",
     "output_type": "stream",
     "text": [
      "Median is: 7.0\n"
     ]
    }
   ],
   "source": [
    "#Median median is the middle number in a set of given numbers\n",
    "#method 1\n",
    "num = [6 ,7, 5, 7, 7, 8, 7, 6, 9, 7, 4, 10, 6, 8, 8, 9, 5, 6, 4, 8] \n",
    "n = len(num) \n",
    "num.sort()\n",
    "\n",
    "if n % 2 == 0: \n",
    "    median1 = num[n//2] \n",
    "    median2 = num[n//2 - 1] \n",
    "    median = (median1 + median2)/2\n",
    "else: \n",
    "    median = n_num[n//2] \n",
    "print(\"Median is: \" + str(median)) \n"
   ]
  },
  {
   "cell_type": "code",
   "execution_count": 6,
   "metadata": {},
   "outputs": [
    {
     "data": {
      "text/plain": [
       "7.0"
      ]
     },
     "execution_count": 6,
     "metadata": {},
     "output_type": "execute_result"
    }
   ],
   "source": [
    "#method 2\n",
    "statistics.median([6 ,7, 5, 7, 7, 8, 7, 6, 9, 7, 4, 10, 6, 8, 8, 9, 5, 6, 4, 8])"
   ]
  },
  {
   "cell_type": "code",
   "execution_count": 7,
   "metadata": {},
   "outputs": [],
   "source": [
    "#mode is the number that occurs most time within a set of numbers."
   ]
  },
  {
   "cell_type": "code",
   "execution_count": 8,
   "metadata": {},
   "outputs": [
    {
     "name": "stdout",
     "output_type": "stream",
     "text": [
      "Mode is: 7\n"
     ]
    }
   ],
   "source": [
    "#method 1\n",
    "from collections import Counter \n",
    "  \n",
    "# list of elements to calculate mode \n",
    "num = [6 ,7, 5, 7, 7, 8, 7, 6, 9, 7, 4, 10, 6, 8, 8, 9, 5, 6, 4, 8] \n",
    "n = len(num) \n",
    "  \n",
    "data = Counter(num) \n",
    "get_mode = dict(data) \n",
    "mode = [k for k, v in get_mode.items() if v == max(list(data.values()))] \n",
    "  \n",
    "if len(mode) == n: \n",
    "    get_mode = \"No mode found\"\n",
    "else: \n",
    "    get_mode = \"Mode is: \" + ', '.join(map(str, mode)) \n",
    "      \n",
    "print(get_mode)"
   ]
  },
  {
   "cell_type": "code",
   "execution_count": 9,
   "metadata": {},
   "outputs": [
    {
     "data": {
      "text/plain": [
       "7"
      ]
     },
     "execution_count": 9,
     "metadata": {},
     "output_type": "execute_result"
    }
   ],
   "source": [
    "#method 2\n",
    "statistics.mode([6 ,7, 5, 7, 7, 8, 7, 6, 9, 7, 4, 10, 6, 8, 8, 9, 5, 6, 4, 8])"
   ]
  },
  {
   "cell_type": "code",
   "execution_count": 10,
   "metadata": {},
   "outputs": [
    {
     "name": "stdout",
     "output_type": "stream",
     "text": [
      "0      6\n",
      "1      7\n",
      "2      5\n",
      "3      7\n",
      "4      7\n",
      "5      8\n",
      "6      7\n",
      "7      6\n",
      "8      9\n",
      "9      7\n",
      "10     4\n",
      "11    10\n",
      "12     6\n",
      "13     8\n",
      "14     8\n",
      "15     9\n",
      "16     5\n",
      "17     6\n",
      "18     4\n",
      "19     8\n",
      "dtype: int64\n"
     ]
    }
   ],
   "source": [
    "#Standard deviation is the measure of how spread out numbers are\n",
    "#vale of sum of each (number-mean)square (x-maen)square\n",
    "# 6-6.85= -0.85  square of  -0.85= 0.7225\n",
    "#varience= sum of each ((x-mean)square like we get for first number above for 6\n",
    "#standard deviation =square root of varienace \n",
    "#method 1\n",
    "sr = pd.Series([6 ,7, 5, 7, 7, 8, 7, 6, 9, 7, 4, 10, 6, 8, 8, 9, 5, 6, 4, 8])\n",
    "print(sr) \n",
    "\n"
   ]
  },
  {
   "cell_type": "code",
   "execution_count": 11,
   "metadata": {},
   "outputs": [
    {
     "name": "stdout",
     "output_type": "stream",
     "text": [
      "The standard deviations of the given numbers are:\n",
      "1.6311119875071343\n"
     ]
    }
   ],
   "source": [
    "answer= sr.std()\n",
    "print(\"The standard deviations of the given numbers are:\")\n",
    "print (answer)"
   ]
  },
  {
   "cell_type": "code",
   "execution_count": 12,
   "metadata": {},
   "outputs": [
    {
     "data": {
      "text/plain": [
       "1.6311119875071343"
      ]
     },
     "execution_count": 12,
     "metadata": {},
     "output_type": "execute_result"
    }
   ],
   "source": [
    "#method 2\n",
    "from statistics import variance \n",
    "from fractions import Fraction as fr \n",
    "num = [6 ,7, 5, 7, 7, 8, 7, 6, 9, 7, 4, 10, 6, 8, 8, 9, 5, 6, 4, 8]\n",
    "varieanceofnum= (variance(num))\n",
    "standarddeviation = varieanceofnum ** 0.5\n",
    "standarddeviation\n"
   ]
  },
  {
   "cell_type": "code",
   "execution_count": 13,
   "metadata": {},
   "outputs": [
    {
     "data": {
      "text/plain": [
       "1.6311119875071343"
      ]
     },
     "execution_count": 13,
     "metadata": {},
     "output_type": "execute_result"
    }
   ],
   "source": [
    "#method 3\n",
    "statistics.stdev([6 ,7, 5, 7, 7, 8, 7, 6, 9, 7, 4, 10, 6, 8, 8, 9, 5, 6, 4, 8])"
   ]
  },
  {
   "cell_type": "code",
   "execution_count": 14,
   "metadata": {},
   "outputs": [],
   "source": [
    "#Problem Statement 2:\n",
    "\n",
    "#The number of calls from motorists per day for roadside service was recorded for a\n",
    "#particular month:\n",
    "#28, 122, 217, 130, 120, 86, 80, 90, 140, 120, 70, 40, 145, 113, 90, 68, 174, 194, 170,\n",
    "#100, 75, 104, 97, 75,\n",
    "#123, 100, 75, 104, 97, 75, 123, 100, 89, 120, 109"
   ]
  },
  {
   "cell_type": "code",
   "execution_count": 15,
   "metadata": {},
   "outputs": [
    {
     "data": {
      "text/plain": [
       "107.51428571428572"
      ]
     },
     "execution_count": 15,
     "metadata": {},
     "output_type": "execute_result"
    }
   ],
   "source": [
    "statistics.mean([28, 122, 217, 130, 120, 86, 80, 90, 140, 120, 70, 40, 145, 113, 90, 68, 174, 194, 170,100, 75, 104, 97, 75,123, 100, 75, 104, 97, 75, 123, 100, 89, 120, 109])"
   ]
  },
  {
   "cell_type": "code",
   "execution_count": 16,
   "metadata": {},
   "outputs": [
    {
     "data": {
      "text/plain": [
       "100"
      ]
     },
     "execution_count": 16,
     "metadata": {},
     "output_type": "execute_result"
    }
   ],
   "source": [
    "statistics.median([28, 122, 217, 130, 120, 86, 80, 90, 140, 120, 70, 40, 145, 113, 90, 68, 174, 194, 170,100, 75, 104, 97, 75,123, 100, 75, 104, 97, 75, 123, 100, 89, 120, 109])"
   ]
  },
  {
   "cell_type": "code",
   "execution_count": 17,
   "metadata": {},
   "outputs": [
    {
     "data": {
      "text/plain": [
       "75"
      ]
     },
     "execution_count": 17,
     "metadata": {},
     "output_type": "execute_result"
    }
   ],
   "source": [
    "statistics.mode([28, 122, 217, 130, 120, 86, 80, 90, 140, 120, 70, 40, 145, 113, 90, 68, 174, 194, 170,100, 75, 104, 97, 75,123, 100, 75, 104, 97, 75, 123, 100, 89, 120, 109])"
   ]
  },
  {
   "cell_type": "code",
   "execution_count": 18,
   "metadata": {},
   "outputs": [
    {
     "data": {
      "text/plain": [
       "39.33892805484412"
      ]
     },
     "execution_count": 18,
     "metadata": {},
     "output_type": "execute_result"
    }
   ],
   "source": [
    "statistics.stdev([28, 122, 217, 130, 120, 86, 80, 90, 140, 120, 70, 40, 145, 113, 90, 68, 174, 194, 170,100, 75, 104, 97, 75,123, 100, 75, 104, 97, 75, 123, 100, 89, 120, 109])"
   ]
  },
  {
   "cell_type": "code",
   "execution_count": 19,
   "metadata": {},
   "outputs": [],
   "source": [
    "#Problem Statement 3:\n",
    "\n",
    "#The number of times I go to the gym in weekdays, are given below along with its\n",
    "#associated probability:\n",
    "#x = 0, 1, 2, 3, 4, 5\n",
    "#f(x) = 0.09, 0.15, 0.40, 0.25, 0.10, 0.01\n",
    "#Calculate the mean no. of workouts in a week. Also evaluate the variance involved in\n",
    "#it.\n"
   ]
  },
  {
   "cell_type": "code",
   "execution_count": 21,
   "metadata": {},
   "outputs": [
    {
     "name": "stdout",
     "output_type": "stream",
     "text": [
      "Mean of workout is: 0.35833333333333334\n",
      "Variance of workout is: 0.10284722222222224\n"
     ]
    }
   ],
   "source": [
    "gym_noof_time=[0,1,2,3,4,5]\n",
    "gym_going_prob=[0.09, 0.15, 0.40, 0.25, 0.10, 0.01]\n",
    "gym=[gym_noof_time[i]*gym_going_prob[i] for i in range(len(gym_noof_time))]\n",
    "print(\"Mean of workout is:\" ,np.mean(gym))\n",
    "print(\"Variance of workout is:\" ,np.var(gym))"
   ]
  },
  {
   "cell_type": "code",
   "execution_count": null,
   "metadata": {},
   "outputs": [],
   "source": [
    "#Problem Statement 4:\n",
    "\n",
    "#Let the continuous random variable D denote the diameter of the hole drilled in an\n",
    "#aluminum sheet. The target diameter to be achieved is 12.5mm. Random\n",
    "#disturbances in the process often result in inaccuracy.\n",
    "#Historical data shows that the distribution of D can be modelled by the PDF (d) =\n",
    "#20e−20(d−12.5), d ≥ 12.5. If a part with diameter > 12.6 mm needs to be scrapped,\n",
    "#what is the proportion of those parts? What is the CDF when the diameter is of 11\n",
    "#mm? What is your conclusion regarding the proportion of scraps?"
   ]
  },
  {
   "cell_type": "code",
   "execution_count": 22,
   "metadata": {},
   "outputs": [
    {
     "data": {
      "text/plain": [
       "(0.016690410034766873, 9.323634756568295e-12)"
      ]
     },
     "execution_count": 22,
     "metadata": {},
     "output_type": "execute_result"
    }
   ],
   "source": [
    "from scipy.integrate import quad\n",
    "import numpy as np\n",
    "def integrand(x):\n",
    "    base=20\n",
    "    exponent = -20*(x-12.5)\n",
    "    integ = pow(base,exponent)\n",
    "    return integ\n",
    "\n",
    "I = quad(integrand, 12.5, np.inf )\n",
    "I"
   ]
  },
  {
   "cell_type": "code",
   "execution_count": 23,
   "metadata": {},
   "outputs": [
    {
     "data": {
      "text/plain": [
       "(1.0000000000000024, 1.0489805132480662e-08)"
      ]
     },
     "execution_count": 23,
     "metadata": {},
     "output_type": "execute_result"
    }
   ],
   "source": [
    "from scipy.integrate import quad\n",
    "import numpy as np\n",
    "def integrand(x):\n",
    "    \n",
    "    return 20*np.exp(-20*(x-12.5))\n",
    "\n",
    "I = quad(integrand, 12.5, np.inf )\n",
    "I"
   ]
  },
  {
   "cell_type": "code",
   "execution_count": 25,
   "metadata": {},
   "outputs": [
    {
     "data": {
      "text/plain": [
       "[Text(0, 0.5, 'Frequency'), Text(0.5, 0, 'Binomial')]"
      ]
     },
     "execution_count": 25,
     "metadata": {},
     "output_type": "execute_result"
    },
    {
     "data": {
      "image/png": "[encoded data removed]",
      "text/plain": [
       "<Figure size 432x288 with 1 Axes>"
      ]
     },
     "metadata": {
      "needs_background": "light"
     },
     "output_type": "display_data"
    }
   ],
   "source": [
    "import seaborn as sns\n",
    "from scipy.stats import binom\n",
    "data=binom.rvs(n=17,p=0.7,loc=0,size=1010)\n",
    "\n",
    "ax=sns.distplot(data,kde=True,color='pink',hist_kws={\"linewidth\":22,'alpha':0.77})\n",
    "ax.set(xlabel='Binomial',ylabel='Frequency')"
   ]
  },
  {
   "cell_type": "code",
   "execution_count": 42,
   "metadata": {},
   "outputs": [],
   "source": [
    "#Problem Statement 5:\n",
    "\n",
    "#A company manufactures LED bulbs with a faulty rate of 30%. If I randomly select 6\n",
    "#chosen LEDs, what is the probability of having 2 faulty LEDs in my sample?\n",
    "#Calculate the average value of this process. Also evaluate the standard deviation\n",
    "#associated with it."
   ]
  },
  {
   "cell_type": "code",
   "execution_count": 44,
   "metadata": {},
   "outputs": [],
   "source": [
    "P=0.3     ; \n",
    "#Q=1-P=0.7\n",
    "Q=0.7\n",
    "#n=total number of trials=6\n",
    "n=6\n",
    "#k=number of trail that will be successed=2\n",
    "k=2\n",
    "#size=Total number of random samples =1000\n",
    "size=1000"
   ]
  },
  {
   "cell_type": "code",
   "execution_count": 45,
   "metadata": {},
   "outputs": [
    {
     "data": {
      "text/plain": [
       "<matplotlib.axes._subplots.AxesSubplot at 0x280e2319a58>"
      ]
     },
     "execution_count": 45,
     "metadata": {},
     "output_type": "execute_result"
    },
    {
     "data": {
      "image/png": "[encoded data removed]",
      "text/plain": [
       "<Figure size 432x288 with 1 Axes>"
      ]
     },
     "metadata": {
      "needs_background": "light"
     },
     "output_type": "display_data"
    }
   ],
   "source": [
    "from scipy.stats import binom\n",
    "import matplotlib.pyplot as plt\n",
    "import seaborn as sns\n",
    "binomial_data=binom.rvs(n=6,p=0.3,size=1000)\n",
    "sns.distplot(binomial_data,hist=True,kde=True,color=\"red\")"
   ]
  },
  {
   "cell_type": "code",
   "execution_count": 46,
   "metadata": {
    "scrolled": true
   },
   "outputs": [
    {
     "data": {
      "text/plain": [
       "<matplotlib.axes._subplots.AxesSubplot at 0x280e23287b8>"
      ]
     },
     "execution_count": 46,
     "metadata": {},
     "output_type": "execute_result"
    },
    {
     "data": {
      "image/png": "[encoded data removed]",
      "text/plain": [
       "<Figure size 432x288 with 1 Axes>"
      ]
     },
     "metadata": {
      "needs_background": "light"
     },
     "output_type": "display_data"
    }
   ],
   "source": [
    "import matplotlib.pyplot as plt\n",
    "import seaborn as sns\n",
    "sns.distplot(np.random.binomial(n=100,p=0.3,size=100),hist=False,kde=True,color=\"green\",label=\"Binomial\")\n",
    "sns.distplot(np.random.normal(loc=30,scale=5,size=100),hist=False,kde=True,color=\"red\",label=\"Normal\")"
   ]
  },
  {
   "cell_type": "code",
   "execution_count": 31,
   "metadata": {},
   "outputs": [
    {
     "name": "stdout",
     "output_type": "stream",
     "text": [
      "Probability will be : 0.32413499999999995\n",
      "CDF will be : 0.74431\n"
     ]
    }
   ],
   "source": [
    "#Probability of getting faulty out of 6 trials\n",
    "from scipy.stats import binom\n",
    "import matplotlib.pyplot as plt\n",
    "import seaborn as sns\n",
    "probab=binom.pmf(k=2,n=6,p=0.3)\n",
    "print(\"Probability will be :\",probab)\n",
    "cdf=binom.cdf(k=2,n=6,p=0.3)\n",
    "print(\"CDF will be :\",cdf)\n"
   ]
  },
  {
   "cell_type": "code",
   "execution_count": 32,
   "metadata": {
    "scrolled": true
   },
   "outputs": [
    {
     "name": "stdout",
     "output_type": "stream",
     "text": [
      "mean :=  1.7999999999999998\n",
      "standard deviation := 1.3416407864998738\n"
     ]
    }
   ],
   "source": [
    "from scipy.stats import binom\n",
    "import matplotlib.pyplot as plt\n",
    "import seaborn as sns\n",
    "import math \n",
    "var=binom.mean(n=6,p=0.3)\n",
    "print(\"mean := \",var)\n",
    "print(\"standard deviation :=\",math.sqrt(var))"
   ]
  },
  {
   "cell_type": "code",
   "execution_count": null,
   "metadata": {},
   "outputs": [],
   "source": [
    "#Problem Statement 6:\n",
    "\n",
    "#Gaurav and Barakha are both preparing for entrance exams. Gaurav attempts to\n",
    "#solve 8 questions per day with a correction rate of 75%, while Barakha averages\n",
    "#around 12 questions per day with a correction rate of 45%. What is the probability\n",
    "#that each of them will solve 5 questions correctly? What happens in cases of 4 and 6\n",
    "#correct solutions? What do you infer from it? What are the two main governing\n",
    "#factors affecting their ability to solve questions correctly? Give a pictorial\n",
    "#representation of the same to validate your answer."
   ]
  },
  {
   "cell_type": "code",
   "execution_count": 59,
   "metadata": {},
   "outputs": [
    {
     "name": "stdout",
     "output_type": "stream",
     "text": [
      "Probability gaurav will solve 5 questions correctly : 0.20764160156250022\n",
      "Probability Barkha will solve 5 questions correctly : 0.22249823843265792\n",
      "Probability gaurav will solve 4 questions correctly : 0.08651733398437506\n",
      "Probability Barkha will solve 4 questions correctly : 0.16996393213605795\n",
      "Probability gaurav will solve 6 questions correctly : 0.31146240234375017\n",
      "Probability Barkha will solve 6 questions correctly : 0.21238468214026424\n"
     ]
    }
   ],
   "source": [
    "# i am going to use Binomial Distribution probabilty\n",
    "\n",
    "#gaurav\n",
    "n=8;\n",
    "p=0.75;\n",
    "# Q=1-p\n",
    "q=0.25;\n",
    "k=5;\n",
    "# (8p5)(0.75)^5*(1-0.75)^2=0.20764160156250022\n",
    "gprobab=binom.pmf(k=5,n=8,p=0.75)\n",
    "print(\"Probability gaurav will solve 5 questions correctly :\",gprobab)\n",
    "#Barkha\n",
    "n=12;\n",
    "p=0.45;\n",
    "# Q=1-p\n",
    "q=0.55;\n",
    "k=5;\n",
    "bprobab=binom.pmf(k=5,n=12,p=0.45)\n",
    "print(\"Probability Barkha will solve 5 questions correctly :\",bprobab)\n",
    "gprobab=binom.pmf(k=4,n=8,p=0.75)\n",
    "print(\"Probability gaurav will solve 4 questions correctly :\",gprobab)\n",
    "bprobab=binom.pmf(k=4,n=12,p=0.45)\n",
    "print(\"Probability Barkha will solve 4 questions correctly :\",bprobab)\n",
    "gprobab=binom.pmf(k=6,n=8,p=0.75)\n",
    "print(\"Probability gaurav will solve 6 questions correctly :\",gprobab)\n",
    "bprobab=binom.pmf(k=6,n=12,p=0.45)\n",
    "print(\"Probability Barkha will solve 6 questions correctly :\",bprobab)"
   ]
  },
  {
   "cell_type": "code",
   "execution_count": null,
   "metadata": {},
   "outputs": [],
   "source": [
    "#Problem Statement 7:\n",
    "\n",
    "#Customers arrive at a rate of 72 per hour to my shop. What is the probability of k\n",
    "#customers arriving in 4 minutes? a) 5 customers, b) not more than 3 customers, c)\n",
    "#more than 3 customers. Give a pictorial representation of the same to validate your\n",
    "#answer.\n"
   ]
  },
  {
   "cell_type": "code",
   "execution_count": null,
   "metadata": {},
   "outputs": [],
   "source": [
    "#customer arrive per minute=72/60=1.2 then, in 4 min total number of customer will arrive =1.2 X 4=4.8"
   ]
  },
  {
   "cell_type": "code",
   "execution_count": 48,
   "metadata": {},
   "outputs": [
    {
     "data": {
      "text/plain": [
       "<matplotlib.axes._subplots.AxesSubplot at 0x280e2492048>"
      ]
     },
     "execution_count": 48,
     "metadata": {},
     "output_type": "execute_result"
    },
    {
     "data": {
      "image/png": "[encoded data removed]",
      "text/plain": [
       "<Figure size 432x288 with 1 Axes>"
      ]
     },
     "metadata": {
      "needs_background": "light"
     },
     "output_type": "display_data"
    }
   ],
   "source": [
    "from scipy.stats import poisson\n",
    "import matplotlib.pyplot as plt\n",
    "import seaborn as sns\n",
    "poisson_data=poisson.rvs(mu=4.8,size=1000)\n",
    "sns.distplot(poisson_data,hist=True,kde=True,color=\"red\")"
   ]
  },
  {
   "cell_type": "code",
   "execution_count": 52,
   "metadata": {},
   "outputs": [
    {
     "name": "stdout",
     "output_type": "stream",
     "text": [
      "probability of k if 5 customers arriving in 4 minutes is : 0.17474768364388296\n",
      "probability of k if not more than 3 customers arriving in 4 minutes is : 0.14253921888902693\n",
      "probability of k if more than 3 customers arriving in 4 minutes is : 0.32456805601807154\n"
     ]
    }
   ],
   "source": [
    "from scipy.stats import poisson\n",
    "probab1=poisson.pmf(k=5,mu=4.8)\n",
    "probab2=sum(poisson.pmf(k=[0,1,2],mu=4.8))\n",
    "probab3=sum(poisson.pmf(k=[0,1,2,4],mu=4.8))\n",
    "\n",
    "print(\"probability of k if 5 customers arriving in 4 minutes is :\", probab1)\n",
    "print(\"probability of k if not more than 3 customers arriving in 4 minutes is :\", probab2)\n",
    "print(\"probability of k if more than 3 customers arriving in 4 minutes is :\", probab3)\n"
   ]
  },
  {
   "cell_type": "code",
   "execution_count": null,
   "metadata": {},
   "outputs": [],
   "source": [
    "#Problem Statement 8:\n",
    "\n",
    "#I work as a data analyst in Aeon Learning Pvt. Ltd. After analyzing data, I make\n",
    "#reports, where I have the efficiency of entering 77 words per minute with 6 errors per\n",
    "#hour. What is the probability that I will commit 2 errors in a 455-word financial report?\n",
    "#What happens when the no. of words increases/decreases (in case of 1000 words,\n",
    "#255 words)?\n",
    "#How is the λ affected?\n",
    "#How does it influence the PMF?\n",
    "#Give a pictorial representation of the same to validate your answer."
   ]
  },
  {
   "cell_type": "code",
   "execution_count": 26,
   "metadata": {},
   "outputs": [
    {
     "data": {
      "text/plain": [
       "0.09878609449692473"
      ]
     },
     "execution_count": 26,
     "metadata": {},
     "output_type": "execute_result"
    }
   ],
   "source": [
    "#77 words per minute\n",
    "#6 error per hour means .1 error per minute\n",
    "#For 455 words  minutes are required and error per 6 min is 0.6.\n",
    "from scipy.stats import poisson\n",
    "d=poisson.pmf(2, 0.6) \n",
    "d"
   ]
  },
  {
   "cell_type": "code",
   "execution_count": null,
   "metadata": {},
   "outputs": [],
   "source": [
    "#Problem Statement 9:\n",
    "\n",
    "#Let the continuous random variable D denote the diameter of the hole drilled in an\n",
    "#aluminum sheet. The target diameter to be achieved is 12.5mm. Random\n",
    "#disturbances in the process often result in inaccuracy.\n",
    "#Historical data shows that the distribution of D can be modelled by the PDF, f(d) =\n",
    "#20e−20(d−12.5), d ≥ 12.5. If a part with diameter > 12.6 mm needs to be scrapped,\n",
    "#what is the proportion of those parts? What is the CDF when the diameter is of 11\n",
    "#mm?\n",
    "#What is the conclusion of this experiment?"
   ]
  },
  {
   "cell_type": "code",
   "execution_count": 27,
   "metadata": {},
   "outputs": [
    {
     "data": {
      "text/plain": [
       "(0.016690410034766873, 9.323634756568295e-12)"
      ]
     },
     "execution_count": 27,
     "metadata": {},
     "output_type": "execute_result"
    }
   ],
   "source": [
    "from scipy.integrate import quad\n",
    "import numpy as np\n",
    "def integrand(x):\n",
    "    base=20\n",
    "    exponent = -20*(x-12.5)\n",
    "    integ = pow(base,exponent)\n",
    "    return integ\n",
    "\n",
    "I = quad(integrand, 12.5, np.inf )\n",
    "I"
   ]
  },
  {
   "cell_type": "code",
   "execution_count": 28,
   "metadata": {},
   "outputs": [
    {
     "data": {
      "text/plain": [
       "(1.0000000000000024, 1.0489805132480662e-08)"
      ]
     },
     "execution_count": 28,
     "metadata": {},
     "output_type": "execute_result"
    }
   ],
   "source": [
    "from scipy.integrate import quad\n",
    "import numpy as np\n",
    "def integrand(x):\n",
    "    \n",
    "    return 20*np.exp(-20*(x-12.5))\n",
    "\n",
    "I = quad(integrand, 12.5, np.inf )\n",
    "I"
   ]
  },
  {
   "cell_type": "code",
   "execution_count": 29,
   "metadata": {},
   "outputs": [
    {
     "data": {
      "text/plain": [
       "[Text(0, 0.5, 'Frequency'), Text(0.5, 0, 'Binomial')]"
      ]
     },
     "execution_count": 29,
     "metadata": {},
     "output_type": "execute_result"
    },
    {
     "data": {
      "image/png": "[encoded data removed]",
      "text/plain": [
       "<Figure size 432x288 with 1 Axes>"
      ]
     },
     "metadata": {
      "needs_background": "light"
     },
     "output_type": "display_data"
    }
   ],
   "source": [
    "import seaborn as sns\n",
    "from scipy.stats import binom\n",
    "data=binom.rvs(n=17,p=0.7,loc=0,size=1010)\n",
    "\n",
    "ax=sns.distplot(data,kde=True,color='pink',hist_kws={\"linewidth\":22,'alpha':0.77})\n",
    "ax.set(xlabel='Binomial',ylabel='Frequency')"
   ]
  },
  {
   "cell_type": "code",
   "execution_count": null,
   "metadata": {},
   "outputs": [],
   "source": [
    "#Problem Statement 10:\n",
    "\n",
    "#Please compute the following:\n",
    "#a) P(Z > 1.26), . P(Z < −0.86), P(Z > −1.37), P(−1.25 < Z < 0.37), . P(Z ≤ −4.6)\n",
    "#b) Find the value z such that P(Z > z) = 0.05\n",
    "#c) Find the value of z such that P(−z < Z < z) = 0.99"
   ]
  },
  {
   "cell_type": "code",
   "execution_count": 30,
   "metadata": {},
   "outputs": [
    {
     "name": "stdout",
     "output_type": "stream",
     "text": [
      "P(Z>1.26) is  0.10383468112130045\n",
      "P(Z<-0.86) is  0.1948945212518084\n",
      "P(Z>1.37) is  0.914656549178033\n",
      "P(−1.25 < Z < 0.37) is  0.5386589811336914\n",
      "P(Z ≤ −4.6) is  2.1124547025028537e-06\n"
     ]
    }
   ],
   "source": [
    "from scipy import stats\n",
    "#a) P(Z > 1.26)\n",
    "a=1-stats.norm.cdf(1.26)\n",
    "b=stats.norm.cdf(-.86)\n",
    "c=1-stats.norm.cdf(-1.37)\n",
    "d=stats.norm.cdf(-1.25)\n",
    "e=stats.norm.cdf(0.37)\n",
    "f=e-d\n",
    "g=stats.norm.cdf(-4.6)\n",
    "print(\"P(Z>1.26) is \",a)\n",
    "print(\"P(Z<-0.86) is \",b)\n",
    "print(\"P(Z>1.37) is \",c)\n",
    "print(\"P(−1.25 < Z < 0.37) is \",f)\n",
    "print(\"P(Z ≤ −4.6) is \",g)"
   ]
  },
  {
   "cell_type": "code",
   "execution_count": 31,
   "metadata": {},
   "outputs": [
    {
     "name": "stdout",
     "output_type": "stream",
     "text": [
      "P(Z > z) = 0.05 is  -1.6448536269514729\n"
     ]
    }
   ],
   "source": [
    "#b) Find the value z such that P(Z > z) = 0.05\n",
    "prob1=stats.norm.ppf(0.05)\n",
    "print(\"P(Z > z) = 0.05 is \",prob1)"
   ]
  },
  {
   "cell_type": "code",
   "execution_count": 32,
   "metadata": {},
   "outputs": [
    {
     "name": "stdout",
     "output_type": "stream",
     "text": [
      "P(−z < Z < z) = 0.99 is  2.3263478740408408\n"
     ]
    }
   ],
   "source": [
    "#c) Find the value of z such that P(−z < Z < z) = 0.99\n",
    "prob2=stats.norm.ppf(0.99)\n",
    "print(\"P(−z < Z < z) = 0.99 is \",prob2)"
   ]
  },
  {
   "cell_type": "code",
   "execution_count": null,
   "metadata": {},
   "outputs": [],
   "source": [
    "#Problem Statement 11:\n",
    "\n",
    "#The current flow in a copper wire follow a normal distribution with a mean of 10 mA\n",
    "#and a variance of 4 (mA)2.\n",
    "#What is the probability that a current measurement will exceed 13 mA? What is the\n",
    "#probability that a current measurement is between 9 and 11mA? Determine the\n",
    "#current measurement which has a probability of 0.98."
   ]
  },
  {
   "cell_type": "code",
   "execution_count": 33,
   "metadata": {},
   "outputs": [
    {
     "name": "stdout",
     "output_type": "stream",
     "text": [
      "Probability that a current measurement will exceed 13 mA is : 0.06680720126885807\n",
      "What is the probability that a current measurement is between 9 and 11mA is : 0.10564977366685535\n",
      "current measurement which has a probability of 0.98. is : 14.107497821263646\n"
     ]
    }
   ],
   "source": [
    "a=stats.norm(10, 2).sf(13)\n",
    "b=stats.norm(10, 2).cdf(11)\n",
    "c=stats.norm(10, 2).cdf(9)\n",
    "d==a-c\n",
    "e=stats.norm(10, 2).ppf(.98)\n",
    "print('Probability that a current measurement will exceed 13 mA is :',a)\n",
    "print('What is the probability that a current measurement is between 9 and 11mA is :',d)\n",
    "print('current measurement which has a probability of 0.98. is :',e)"
   ]
  },
  {
   "cell_type": "code",
   "execution_count": null,
   "metadata": {},
   "outputs": [],
   "source": [
    "#Problem Statement 12:\n",
    "\n",
    "#The shaft in a piston has its diameter normally distributed with a mean of 0.2508 inch\n",
    "#and a standard deviation of 0.0005 inch. The specifications of the shaft are 0.2500 ∓\n",
    "#0.0015 inch. What proportion of shafts are in sync with the specifications? If the\n",
    "#process is centered so that the mean is equal to the target value of 0.2500, what\n",
    "#proportion of shafts conform to the new specifications? What is your conclusion from\n",
    "#this experiment?"
   ]
  },
  {
   "cell_type": "code",
   "execution_count": 34,
   "metadata": {},
   "outputs": [
    {
     "name": "stdout",
     "output_type": "stream",
     "text": [
      "proportion of shafts are in sync with the specifications when mean is .2508 is: 0.91924122831152\n",
      "proportion of shafts are in sync with the specifications when mean is .2500 is: 0.9973002039367398\n"
     ]
    }
   ],
   "source": [
    "a=stats.norm(.2508, .0005).cdf(.2515)\n",
    "b=stats.norm(.2508, .0005).cdf(.2485)\n",
    "c=a-b\n",
    "c\n",
    "\n",
    "d=stats.norm(.2500, .0005).cdf(.2515)\n",
    "e=stats.norm(.2500, .0005).cdf(.2485)\n",
    "f=d-e\n",
    "f\n",
    "print('proportion of shafts are in sync with the specifications when mean is .2508 is:',c)\n",
    "print('proportion of shafts are in sync with the specifications when mean is .2500 is:',f)"
   ]
  }
 ],
 "metadata": {
  "kernelspec": {
   "display_name": "Python 3",
   "language": "python",
   "name": "python3"
  },
  "language_info": {
   "codemirror_mode": {
    "name": "ipython",
    "version": 3
   },
   "file_extension": ".py",
   "mimetype": "text/x-python",
   "name": "python",
   "nbconvert_exporter": "python",
   "pygments_lexer": "ipython3",
   "version": "3.7.1"
  }
 },
 "nbformat": 4,
 "nbformat_minor": 2
}
