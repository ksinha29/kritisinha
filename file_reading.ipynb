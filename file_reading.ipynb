{
 "cells": [
  {
   "cell_type": "markdown",
   "metadata": {},
   "source": [
    "# Pandas"
   ]
  },
  {
   "cell_type": "code",
   "execution_count": 2,
   "metadata": {},
   "outputs": [],
   "source": [
    "import numpy as np\n",
    "import pandas as pd\n",
    "np.set_printoptions(precision=4)\n",
    "import os\n",
    "import matplotlib.pyplot as plt\n",
    "%matplotlib inline"
   ]
  },
  {
   "cell_type": "code",
   "execution_count": 3,
   "metadata": {
    "scrolled": true
   },
   "outputs": [
    {
     "data": {
      "text/html": [
       "<div>\n",
       "<style scoped>\n",
       "    .dataframe tbody tr th:only-of-type {\n",
       "        vertical-align: middle;\n",
       "    }\n",
       "\n",
       "    .dataframe tbody tr th {\n",
       "        vertical-align: top;\n",
       "    }\n",
       "\n",
       "    .dataframe thead th {\n",
       "        text-align: right;\n",
       "    }\n",
       "</style>\n",
       "<table border=\"1\" class=\"dataframe\">\n",
       "  <thead>\n",
       "    <tr style=\"text-align: right;\">\n",
       "      <th></th>\n",
       "      <th>Classe_PV</th>\n",
       "      <th>Age_PV</th>\n",
       "      <th>Cadre</th>\n",
       "      <th>Non_Cadre</th>\n",
       "      <th>Diplome</th>\n",
       "      <th>Age_Moy</th>\n",
       "      <th>Anc_Moy</th>\n",
       "      <th>Surface_</th>\n",
       "      <th>Type_concep</th>\n",
       "      <th>Nbr_reclam</th>\n",
       "      <th>Age_RPV</th>\n",
       "      <th>Anc_RPV</th>\n",
       "      <th>Anc_RPV_PV</th>\n",
       "      <th>Qualt_client</th>\n",
       "    </tr>\n",
       "  </thead>\n",
       "  <tbody>\n",
       "    <tr>\n",
       "      <th>0</th>\n",
       "      <td>3</td>\n",
       "      <td>29</td>\n",
       "      <td>14</td>\n",
       "      <td>10</td>\n",
       "      <td>10</td>\n",
       "      <td>41,71</td>\n",
       "      <td>5,54</td>\n",
       "      <td>12,75</td>\n",
       "      <td>A</td>\n",
       "      <td>16</td>\n",
       "      <td>38</td>\n",
       "      <td>21</td>\n",
       "      <td>20</td>\n",
       "      <td>0,37</td>\n",
       "    </tr>\n",
       "    <tr>\n",
       "      <th>1</th>\n",
       "      <td>3</td>\n",
       "      <td>21</td>\n",
       "      <td>6</td>\n",
       "      <td>14</td>\n",
       "      <td>6</td>\n",
       "      <td>34,2</td>\n",
       "      <td>4,7</td>\n",
       "      <td>11,8</td>\n",
       "      <td>A</td>\n",
       "      <td>7</td>\n",
       "      <td>41</td>\n",
       "      <td>28</td>\n",
       "      <td>9</td>\n",
       "      <td>0,53</td>\n",
       "    </tr>\n",
       "    <tr>\n",
       "      <th>2</th>\n",
       "      <td>5</td>\n",
       "      <td>13</td>\n",
       "      <td>3</td>\n",
       "      <td>5</td>\n",
       "      <td>3</td>\n",
       "      <td>31,13</td>\n",
       "      <td>6,63</td>\n",
       "      <td>12,25</td>\n",
       "      <td>A</td>\n",
       "      <td>7</td>\n",
       "      <td>46</td>\n",
       "      <td>66</td>\n",
       "      <td>24</td>\n",
       "      <td>0,49</td>\n",
       "    </tr>\n",
       "    <tr>\n",
       "      <th>3</th>\n",
       "      <td>3</td>\n",
       "      <td>18</td>\n",
       "      <td>5</td>\n",
       "      <td>7</td>\n",
       "      <td>4</td>\n",
       "      <td>36,58</td>\n",
       "      <td>5,33</td>\n",
       "      <td>16,42</td>\n",
       "      <td>A</td>\n",
       "      <td>12</td>\n",
       "      <td>38</td>\n",
       "      <td>28</td>\n",
       "      <td>9</td>\n",
       "      <td>0,69</td>\n",
       "    </tr>\n",
       "    <tr>\n",
       "      <th>4</th>\n",
       "      <td>4</td>\n",
       "      <td>17</td>\n",
       "      <td>2</td>\n",
       "      <td>5</td>\n",
       "      <td>2</td>\n",
       "      <td>44,86</td>\n",
       "      <td>4,14</td>\n",
       "      <td>27,86</td>\n",
       "      <td>A</td>\n",
       "      <td>2</td>\n",
       "      <td>47</td>\n",
       "      <td>7</td>\n",
       "      <td>7</td>\n",
       "      <td>0,44</td>\n",
       "    </tr>\n",
       "  </tbody>\n",
       "</table>\n",
       "</div>"
      ],
      "text/plain": [
       "   Classe_PV  Age_PV  Cadre  Non_Cadre  Diplome Age_Moy Anc_Moy Surface_  \\\n",
       "0          3      29     14         10       10   41,71    5,54    12,75   \n",
       "1          3      21      6         14        6    34,2     4,7     11,8   \n",
       "2          5      13      3          5        3   31,13    6,63    12,25   \n",
       "3          3      18      5          7        4   36,58    5,33    16,42   \n",
       "4          4      17      2          5        2   44,86    4,14    27,86   \n",
       "\n",
       "  Type_concep  Nbr_reclam  Age_RPV  Anc_RPV  Anc_RPV_PV Qualt_client  \n",
       "0           A          16       38       21          20         0,37  \n",
       "1           A           7       41       28           9         0,53  \n",
       "2           A           7       46       66          24         0,49  \n",
       "3           A          12       38       28           9         0,69  \n",
       "4           A           2       47        7           7         0,44  "
      ]
     },
     "execution_count": 3,
     "metadata": {},
     "output_type": "execute_result"
    }
   ],
   "source": [
    "draft2 = pd.read_table('/Users/om/Downloads/examples/banques.txt')  \n",
    "\n",
    "draft2.head()  "
   ]
  },
  {
   "cell_type": "code",
   "execution_count": 4,
   "metadata": {
    "scrolled": true
   },
   "outputs": [
    {
     "data": {
      "text/html": [
       "<div>\n",
       "<style scoped>\n",
       "    .dataframe tbody tr th:only-of-type {\n",
       "        vertical-align: middle;\n",
       "    }\n",
       "\n",
       "    .dataframe tbody tr th {\n",
       "        vertical-align: top;\n",
       "    }\n",
       "\n",
       "    .dataframe thead th {\n",
       "        text-align: right;\n",
       "    }\n",
       "</style>\n",
       "<table border=\"1\" class=\"dataframe\">\n",
       "  <thead>\n",
       "    <tr style=\"text-align: right;\">\n",
       "      <th></th>\n",
       "      <th></th>\n",
       "      <th></th>\n",
       "      <th></th>\n",
       "      <th>Classe_PV\\tAge_PV\\tCadre\\tNon_Cadre\\tDiplome\\tAge_Moy\\tAnc_Moy\\tSurface_\\tType_concep\\tNbr_reclam\\tAge_RPV\\tAnc_RPV\\tAnc_RPV_PV\\tQualt_client</th>\n",
       "    </tr>\n",
       "  </thead>\n",
       "  <tbody>\n",
       "    <tr>\n",
       "      <th>3\\t29\\t14\\t10\\t10\\t41</th>\n",
       "      <th>71\\t5</th>\n",
       "      <th>54\\t12</th>\n",
       "      <th>75\\tA\\t16\\t38\\t21\\t20\\t0</th>\n",
       "      <td>37.0</td>\n",
       "    </tr>\n",
       "    <tr>\n",
       "      <th>3\\t21\\t6\\t14\\t6\\t34</th>\n",
       "      <th>2\\t4</th>\n",
       "      <th>7\\t11</th>\n",
       "      <th>8\\tA\\t7\\t41\\t28\\t9\\t0</th>\n",
       "      <td>53.0</td>\n",
       "    </tr>\n",
       "    <tr>\n",
       "      <th>5\\t13\\t3\\t5\\t3\\t31</th>\n",
       "      <th>13\\t6</th>\n",
       "      <th>63\\t12</th>\n",
       "      <th>25\\tA\\t7\\t46\\t66\\t24\\t0</th>\n",
       "      <td>49.0</td>\n",
       "    </tr>\n",
       "    <tr>\n",
       "      <th>3\\t18\\t5\\t7\\t4\\t36</th>\n",
       "      <th>58\\t5</th>\n",
       "      <th>33\\t16</th>\n",
       "      <th>42\\tA\\t12\\t38\\t28\\t9\\t0</th>\n",
       "      <td>69.0</td>\n",
       "    </tr>\n",
       "    <tr>\n",
       "      <th>4\\t17\\t2\\t5\\t2\\t44</th>\n",
       "      <th>86\\t4</th>\n",
       "      <th>14\\t27</th>\n",
       "      <th>86\\tA\\t2\\t47\\t7\\t7\\t0</th>\n",
       "      <td>44.0</td>\n",
       "    </tr>\n",
       "    <tr>\n",
       "      <th>...</th>\n",
       "      <th>...</th>\n",
       "      <th>...</th>\n",
       "      <th>...</th>\n",
       "      <td>...</td>\n",
       "    </tr>\n",
       "    <tr>\n",
       "      <th>4\\t3\\t3\\t6\\t4\\t30</th>\n",
       "      <th>11\\t2</th>\n",
       "      <th>78\\t26</th>\n",
       "      <th>67\\tN\\t3\\t41\\t28\\t9\\t1</th>\n",
       "      <td>11.0</td>\n",
       "    </tr>\n",
       "    <tr>\n",
       "      <th>5\\t1\\t2\\t2\\t2\\t36</th>\n",
       "      <th>75\\t2</th>\n",
       "      <th>5\\t70\\tN\\t1\\t39\\t7\\t7\\t0</th>\n",
       "      <th>53</th>\n",
       "      <td>NaN</td>\n",
       "    </tr>\n",
       "    <tr>\n",
       "      <th>5\\t1\\t4\\t4\\t2\\t40</th>\n",
       "      <th>75\\t2</th>\n",
       "      <th>63\\t13</th>\n",
       "      <th>5\\tN\\t1\\t47\\t12\\t12\\t0</th>\n",
       "      <td>97.0</td>\n",
       "    </tr>\n",
       "    <tr>\n",
       "      <th>5\\t1\\t2\\t3\\t2\\t35</th>\n",
       "      <th>4\\t2\\t70\\tN\\t1\\t36\\t22\\t22\\t1</th>\n",
       "      <th>09</th>\n",
       "      <th>NaN</th>\n",
       "      <td>NaN</td>\n",
       "    </tr>\n",
       "    <tr>\n",
       "      <th>5\\t1\\t2\\t2\\t2\\t37</th>\n",
       "      <th>5\\t2\\t88</th>\n",
       "      <th>75\\tN\\t0\\t34\\t22\\t22\\t0</th>\n",
       "      <th>76</th>\n",
       "      <td>NaN</td>\n",
       "    </tr>\n",
       "  </tbody>\n",
       "</table>\n",
       "<p>102 rows × 1 columns</p>\n",
       "</div>"
      ],
      "text/plain": [
       "                                                                                                       Classe_PV\\tAge_PV\\tCadre\\tNon_Cadre\\tDiplome\\tAge_Moy\\tAnc_Moy\\tSurface_\\tType_concep\\tNbr_reclam\\tAge_RPV\\tAnc_RPV\\tAnc_RPV_PV\\tQualt_client\n",
       "3\\t29\\t14\\t10\\t10\\t41 71\\t5                         54\\t12                   75\\tA\\t16\\t38\\t21\\t20\\t0                                               37.0                                                                                            \n",
       "3\\t21\\t6\\t14\\t6\\t34   2\\t4                          7\\t11                    8\\tA\\t7\\t41\\t28\\t9\\t0                                                  53.0                                                                                            \n",
       "5\\t13\\t3\\t5\\t3\\t31    13\\t6                         63\\t12                   25\\tA\\t7\\t46\\t66\\t24\\t0                                                49.0                                                                                            \n",
       "3\\t18\\t5\\t7\\t4\\t36    58\\t5                         33\\t16                   42\\tA\\t12\\t38\\t28\\t9\\t0                                                69.0                                                                                            \n",
       "4\\t17\\t2\\t5\\t2\\t44    86\\t4                         14\\t27                   86\\tA\\t2\\t47\\t7\\t7\\t0                                                  44.0                                                                                            \n",
       "...                                                                                                                                                  ...                                                                                            \n",
       "4\\t3\\t3\\t6\\t4\\t30     11\\t2                         78\\t26                   67\\tN\\t3\\t41\\t28\\t9\\t1                                                 11.0                                                                                            \n",
       "5\\t1\\t2\\t2\\t2\\t36     75\\t2                         5\\t70\\tN\\t1\\t39\\t7\\t7\\t0 53                                                                      NaN                                                                                            \n",
       "5\\t1\\t4\\t4\\t2\\t40     75\\t2                         63\\t13                   5\\tN\\t1\\t47\\t12\\t12\\t0                                                 97.0                                                                                            \n",
       "5\\t1\\t2\\t3\\t2\\t35     4\\t2\\t70\\tN\\t1\\t36\\t22\\t22\\t1 09                       NaN                                                                     NaN                                                                                            \n",
       "5\\t1\\t2\\t2\\t2\\t37     5\\t2\\t88                      75\\tN\\t0\\t34\\t22\\t22\\t0  76                                                                      NaN                                                                                            \n",
       "\n",
       "[102 rows x 1 columns]"
      ]
     },
     "execution_count": 4,
     "metadata": {},
     "output_type": "execute_result"
    }
   ],
   "source": [
    "pd.read_table('/Users/om/Downloads/examples/banques.txt', sep=',')"
   ]
  },
  {
   "cell_type": "code",
   "execution_count": 5,
   "metadata": {},
   "outputs": [
    {
     "name": "stdout",
     "output_type": "stream",
     "text": [
      "Classe_PV\n",
      "Age_PV\n",
      "Cadre\n",
      "Non_Cadre\n",
      "Diplome\n",
      "Age_Moy\n",
      "Anc_Moy\n",
      "Surface_\n",
      "Type_concep\n",
      "Nbr_reclam\n",
      "Age_RPV\n",
      "Anc_RPV\n",
      "Anc_RPV_PV\n",
      "Qualt_client\n"
     ]
    }
   ],
   "source": [
    "for x in draft2:\n",
    "  print(x)"
   ]
  },
  {
   "cell_type": "code",
   "execution_count": 6,
   "metadata": {},
   "outputs": [
    {
     "name": "stdout",
     "output_type": "stream",
     "text": [
      "The file exist\n"
     ]
    }
   ],
   "source": [
    "import os\n",
    "if os.path.exists(\"/Users/om/Downloads/examples/banques.txt\"):\n",
    "   print(\"The file exist\")\n",
    "else:\n",
    "  print(\"The file does not exist\")"
   ]
  },
  {
   "cell_type": "code",
   "execution_count": 7,
   "metadata": {
    "scrolled": false
   },
   "outputs": [
    {
     "data": {
      "text/html": [
       "<div>\n",
       "<style scoped>\n",
       "    .dataframe tbody tr th:only-of-type {\n",
       "        vertical-align: middle;\n",
       "    }\n",
       "\n",
       "    .dataframe tbody tr th {\n",
       "        vertical-align: top;\n",
       "    }\n",
       "\n",
       "    .dataframe thead th {\n",
       "        text-align: right;\n",
       "    }\n",
       "</style>\n",
       "<table border=\"1\" class=\"dataframe\">\n",
       "  <thead>\n",
       "    <tr style=\"text-align: right;\">\n",
       "      <th></th>\n",
       "      <th>Classe_PV</th>\n",
       "      <th>Age_PV</th>\n",
       "    </tr>\n",
       "  </thead>\n",
       "  <tbody>\n",
       "    <tr>\n",
       "      <th>0</th>\n",
       "      <td>3</td>\n",
       "      <td>29</td>\n",
       "    </tr>\n",
       "    <tr>\n",
       "      <th>1</th>\n",
       "      <td>3</td>\n",
       "      <td>21</td>\n",
       "    </tr>\n",
       "    <tr>\n",
       "      <th>2</th>\n",
       "      <td>5</td>\n",
       "      <td>13</td>\n",
       "    </tr>\n",
       "    <tr>\n",
       "      <th>3</th>\n",
       "      <td>3</td>\n",
       "      <td>18</td>\n",
       "    </tr>\n",
       "    <tr>\n",
       "      <th>4</th>\n",
       "      <td>4</td>\n",
       "      <td>17</td>\n",
       "    </tr>\n",
       "  </tbody>\n",
       "</table>\n",
       "</div>"
      ],
      "text/plain": [
       "   Classe_PV  Age_PV\n",
       "0          3      29\n",
       "1          3      21\n",
       "2          5      13\n",
       "3          3      18\n",
       "4          4      17"
      ]
     },
     "execution_count": 7,
     "metadata": {},
     "output_type": "execute_result"
    }
   ],
   "source": [
    "draft2[[\"Classe_PV\",\"Age_PV\"]].head()"
   ]
  },
  {
   "cell_type": "code",
   "execution_count": 8,
   "metadata": {},
   "outputs": [
    {
     "data": {
      "text/plain": [
       "Classe_PV        int64\n",
       "Age_PV           int64\n",
       "Cadre            int64\n",
       "Non_Cadre        int64\n",
       "Diplome          int64\n",
       "Age_Moy         object\n",
       "Anc_Moy         object\n",
       "Surface_        object\n",
       "Type_concep     object\n",
       "Nbr_reclam       int64\n",
       "Age_RPV          int64\n",
       "Anc_RPV          int64\n",
       "Anc_RPV_PV       int64\n",
       "Qualt_client    object\n",
       "dtype: object"
      ]
     },
     "execution_count": 8,
     "metadata": {},
     "output_type": "execute_result"
    }
   ],
   "source": [
    "draft2.dtypes"
   ]
  },
  {
   "cell_type": "code",
   "execution_count": 9,
   "metadata": {},
   "outputs": [],
   "source": [
    "pd.options.display.max_rows = 100"
   ]
  },
  {
   "cell_type": "code",
   "execution_count": 10,
   "metadata": {},
   "outputs": [
    {
     "data": {
      "text/plain": [
       "<pandas.io.parsers.TextFileReader at 0x198d3c43320>"
      ]
     },
     "execution_count": 10,
     "metadata": {},
     "output_type": "execute_result"
    }
   ],
   "source": [
    "draft2 = pd.read_table('/Users/om/Downloads/examples/banques.txt', chunksize=10)  \n",
    "\n",
    "draft2 "
   ]
  },
  {
   "cell_type": "markdown",
   "metadata": {},
   "source": [
    "Writing Data to Text Format"
   ]
  },
  {
   "cell_type": "markdown",
   "metadata": {},
   "source": [
    "Working with Delimited Formats"
   ]
  },
  {
   "cell_type": "code",
   "execution_count": 11,
   "metadata": {
    "scrolled": false
   },
   "outputs": [
    {
     "name": "stdout",
     "output_type": "stream",
     "text": [
      "   Classe_PV  Age_PV  Cadre  Non_Cadre  Diplome Age_Moy Anc_Moy Surface_  \\\n",
      "0          3      29     14         10       10   41,71    5,54    12,75   \n",
      "1          3      21      6         14        6    34,2     4,7     11,8   \n",
      "2          5      13      3          5        3   31,13    6,63    12,25   \n",
      "3          3      18      5          7        4   36,58    5,33    16,42   \n",
      "4          4      17      2          5        2   44,86    4,14    27,86   \n",
      "5          4      16      3          3        2   40,33       5       40   \n",
      "6          3      15      8          7        5   37,67    4,47    26,67   \n",
      "7          4      15      5          3        3    39,5     6,5    10,63   \n",
      "8          5      14      2          2        1   40,25    4,75     32,5   \n",
      "9          4       9      6          4        5      40     3,8       12   \n",
      "\n",
      "  Type_concep  Nbr_reclam  Age_RPV  Anc_RPV  Anc_RPV_PV Qualt_client  \n",
      "0           A          16       38       21          20         0,37  \n",
      "1           A           7       41       28           9         0,53  \n",
      "2           A           7       46       66          24         0,49  \n",
      "3           A          12       38       28           9         0,69  \n",
      "4           A           2       47        7           7         0,44  \n",
      "5           A           8       37       66           7          0,4  \n",
      "6           N          20       44       32          28         0,45  \n",
      "7           A          18       38       28          28         0,41  \n",
      "8           A           1       42       51          28         0,47  \n",
      "9           C           5       43       35          28         0,32  \n",
      "    Classe_PV  Age_PV  Cadre  Non_Cadre  Diplome Age_Moy Anc_Moy Surface_  \\\n",
      "10          4      23      5          6        2      39    5,36       18   \n",
      "11          5      20      3          2        0    44,4     6,8     26,6   \n",
      "12          4      16      4          6        3    41,4     6,9     20,8   \n",
      "13          3      13      7          7        3   39,36       7    22,14   \n",
      "14          4       8      3          4        2      41    5,14    32,14   \n",
      "15          3      14      5          6        4   38,09    3,73    29,09   \n",
      "16          2      13      7          7        6   38,21    5,43    12,29   \n",
      "17          4      29      3          6        1   41,67       5    22,22   \n",
      "18          4      14      4          5        3   39,56    6,33    27,78   \n",
      "19          2      30      7         14        3   43,38    5,86    16,33   \n",
      "\n",
      "   Type_concep  Nbr_reclam  Age_RPV  Anc_RPV  Anc_RPV_PV Qualt_client  \n",
      "10           C          15       56       60           9         0,21  \n",
      "11           A           5       47       58          28         0,21  \n",
      "12           A           3       39       28           9         0,47  \n",
      "13           C          48       47      109          21         0,63  \n",
      "14           C          17       37       51          28         0,56  \n",
      "15           N          19       46       60          21         1,02  \n",
      "16           C          16       40      147          28         0,69  \n",
      "17           A          46       49       32          19         0,35  \n",
      "18           A           6       40       34          28         0,31  \n",
      "19           N          69       47      214          28         0,36  \n",
      "    Classe_PV  Age_PV  Cadre  Non_Cadre  Diplome Age_Moy Anc_Moy Surface_  \\\n",
      "20          4      30      6          5        3   44,27    4,09    25,64   \n",
      "21          4      30      2          6        2      42       5    13,75   \n",
      "22          2      24      6         10        4   35,56    4,94    13,31   \n",
      "23          3      21     10          6        4   42,88    6,25    12,88   \n",
      "24          4      20      8          1        3   41,44    5,22    25,22   \n",
      "25          4      18      4          4        3      42    7,38    21,25   \n",
      "26          4      19      2          5        1   44,43    6,86    26,43   \n",
      "27          3      17      4          7        2   34,82    5,36    17,27   \n",
      "28          5      14      1          4        1      42     5,4       16   \n",
      "29          5      21      1          3        1   42,25     7,5    76,25   \n",
      "\n",
      "   Type_concep  Nbr_reclam  Age_RPV  Anc_RPV  Anc_RPV_PV Qualt_client  \n",
      "20           N          37       47        9           9          0,2  \n",
      "21           N           8       41        9           9         3,13  \n",
      "22           N          70       41        9           9         0,55  \n",
      "23           A          32       55      222          28         0,33  \n",
      "24           A          17       41      140           9         0,16  \n",
      "25           N           3       42      130          28         0,44  \n",
      "26           A          10       51      249          28         0,49  \n",
      "27           C          10       36       32          28         0,57  \n",
      "28           A           1       40       35          28         0,21  \n",
      "29           A           4       36       30          28         0,34  \n",
      "    Classe_PV  Age_PV  Cadre  Non_Cadre  Diplome Age_Moy Anc_Moy Surface_  \\\n",
      "30          3      19     10          7        6   38,47    3,76    16,47   \n",
      "31          3      18     11          7        6   37,72       5    18,56   \n",
      "32          3      18      5         14        6   34,79    5,58    13,16   \n",
      "33          4      16      7          6        6   40,85    2,46    10,77   \n",
      "34          3      15      7          7        5    35,5       4    17,86   \n",
      "35          5      15      4          4        0   44,13    4,38    22,63   \n",
      "36          4      14      3          6        2      38       8     9,22   \n",
      "37          3      13      5          4        3   38,67    3,44    23,33   \n",
      "38          1      30     19         11       10   41,53    5,97    13,63   \n",
      "39          3      30      9          7        3   43,38    7,56    12,81   \n",
      "\n",
      "   Type_concep  Nbr_reclam  Age_RPV  Anc_RPV  Anc_RPV_PV Qualt_client  \n",
      "30           N           4       41       21          21         0,15  \n",
      "31           N         102       36       72          28         0,51  \n",
      "32           C          22       39        7           7         0,31  \n",
      "33           A          21       44       65          21         0,48  \n",
      "34           A          45       36       32          28          0,4  \n",
      "35           A          11       42       22           9         0,26  \n",
      "36           A          15       39       32          28         0,18  \n",
      "37           A           3       50       32          28          0,6  \n",
      "38           A          61       49       43          28         0,67  \n",
      "39           A          45       36       73          28         0,32  \n",
      "    Classe_PV  Age_PV  Cadre  Non_Cadre  Diplome Age_Moy Anc_Moy Surface_  \\\n",
      "40          2      27     15         11        7   42,85    6,27    25,92   \n",
      "41          3      26      4          6        4      41     5,2     17,5   \n",
      "42          2      24     12          7        7   40,05    5,68    13,21   \n",
      "43          2      21     10          6        5   37,75       7     14,5   \n",
      "44          4      19      5          5        2    43,8     4,5       19   \n",
      "45          4      21      1          4        1    44,6     5,2       35   \n",
      "46          4      20      6          4        4    39,4     5,4      9,1   \n",
      "47          5      20      2          1        0      44    6,67       40   \n",
      "48          3      24      9          6        5   43,73     7,8    12,33   \n",
      "49          2      18     10          9        6   40,95    5,11    13,58   \n",
      "\n",
      "   Type_concep  Nbr_reclam  Age_RPV  Anc_RPV  Anc_RPV_PV Qualt_client  \n",
      "40           N          51       42       35          28         0,54  \n",
      "41           A          37       41       35          28         0,42  \n",
      "42           N          61       52       28          21         0,55  \n",
      "43           A          37       35       32          28         0,91  \n",
      "44           N          15       54      180          37         0,33  \n",
      "45           A           8       43       46          18         0,29  \n",
      "46           A          13       44       27          27         0,36  \n",
      "47           A           5       53       96          58         0,25  \n",
      "48           C          18       36       21          21         0,33  \n",
      "49           N          34       44       20          20         1,12  \n",
      "    Classe_PV  Age_PV  Cadre  Non_Cadre  Diplome Age_Moy Anc_Moy Surface_  \\\n",
      "50          5      18      2          5        1   37,57    7,29    13,71   \n",
      "51          4      18      4          5        1   44,22    8,22    14,44   \n",
      "52          5      18      1          5        1   34,83    5,33    18,33   \n",
      "53          4      18      5          7        2   42,08    6,42     16,5   \n",
      "54          4      18      6          4        4    39,1     4,4       12   \n",
      "55          4      15      2          4        2    40,5    4,83    25,83   \n",
      "56          1      15     16         17       12   37,76    6,36    12,73   \n",
      "57          1      30     14         17        8   42,74    6,87     12,9   \n",
      "58          2      30     19         10       12      41    7,21    20,93   \n",
      "59          3      29      6          8        3   43,29    5,79    14,14   \n",
      "\n",
      "   Type_concep  Nbr_reclam  Age_RPV  Anc_RPV  Anc_RPV_PV Qualt_client  \n",
      "50           A           3       52      137          48         0,22  \n",
      "51           A           9       42       72          48         0,26  \n",
      "52           A           9       45       72          48         0,27  \n",
      "53           A          30       54      183          48          0,3  \n",
      "54           A          11       33       19          19         0,45  \n",
      "55           A           6       36       44           9         0,69  \n",
      "56           N          21       46       32          28         1,49  \n",
      "57           C          40       51       21          20         0,42  \n",
      "58           N          50       40       51          21         0,31  \n",
      "59           C          20       47       36          28         0,95  \n",
      "    Classe_PV  Age_PV  Cadre  Non_Cadre  Diplome Age_Moy Anc_Moy Surface_  \\\n",
      "60          3      30      6          7        4   38,46    5,85    18,62   \n",
      "61          2      30      8         10        7      35    4,22       13   \n",
      "62          3      26      5          6        5   40,64    4,55    15,91   \n",
      "63          2      26     10         10        8    38,9    5,45       23   \n",
      "64          3      25     13          9        9      38    5,45    19,41   \n",
      "65          3      22      7          9        4   41,81    7,31    23,44   \n",
      "66          4      22      5          3        1      44     6,5       30   \n",
      "67          1      30     12         15        8    41,3    7,11    19,37   \n",
      "68          3      21      7          7        7   40,93    5,43    12,93   \n",
      "69          3      21      8          9        7   37,65    4,76    13,76   \n",
      "\n",
      "   Type_concep  Nbr_reclam  Age_RPV  Anc_RPV  Anc_RPV_PV Qualt_client  \n",
      "60           A          10       35       19          19         0,99  \n",
      "61           C          12       44       58          28         1,02  \n",
      "62           N          26       46       87          21         0,33  \n",
      "63           C          41       52       21          20          0,6  \n",
      "64           N          31       43      111          28         0,51  \n",
      "65           C          15       59      238          28         0,82  \n",
      "66           N          15       59      240          28         0,44  \n",
      "67           N          19       53       84          28         1,56  \n",
      "68           C          21       39       32          28          0,3  \n",
      "69           C          20       50       34          34         0,74  \n",
      "    Classe_PV  Age_PV  Cadre  Non_Cadre  Diplome Age_Moy Anc_Moy Surface_  \\\n",
      "70          3      20      4          9        4   34,85       5    26,38   \n",
      "71          4      20      5          5        3    39,4     4,7     15,4   \n",
      "72          3      20      7          5        3    44,5    7,08    19,08   \n",
      "73          3      20      9         13        7   33,55    4,14        9   \n",
      "74          4      30      5          8        4      40    3,69    19,23   \n",
      "75          4      18      4          6        3    40,4     6,4       21   \n",
      "76          4      24      7          6        2   41,69    7,62    16,54   \n",
      "77          4       8      5          5        3    40,1     6,2     14,8   \n",
      "78          3       8      4          7        4   39,36       5    14,82   \n",
      "79          5       7      3          3        3   36,17       4    21,67   \n",
      "\n",
      "   Type_concep  Nbr_reclam  Age_RPV  Anc_RPV  Anc_RPV_PV Qualt_client  \n",
      "70           N          20       50       66          45         0,42  \n",
      "71           A          33       42       30          28         0,36  \n",
      "72           C          17       52       71          21         0,25  \n",
      "73           A          19       41       30          28         0,36  \n",
      "74           A          20       52      240          28         0,25  \n",
      "75           A           1       43       71          28         0,46  \n",
      "76           N          35       46       69          28         0,14  \n",
      "77           C          17       38       44           9         0,34  \n",
      "78           C          27       43       21          21         0,44  \n",
      "79           A           0       31       27          27         0,62  \n",
      "    Classe_PV  Age_PV  Cadre  Non_Cadre  Diplome Age_Moy Anc_Moy Surface_  \\\n",
      "80          5       7      1          4        1      38       3       30   \n",
      "81          5       7      2          2        1    46,5     2,5       34   \n",
      "82          4       6      4          5        4   39,33    5,11    12,44   \n",
      "83          1       6     19         13       11      38    4,66    14,22   \n",
      "84          4       5      1          3        1   40,75     3,5    41,25   \n",
      "85          4       5      2          8        4    32,8     3,5     17,5   \n",
      "86          4       5      4          4        2   38,25     3,5       28   \n",
      "87          5       5      4          4        2   41,88       4    10,13   \n",
      "88          5       5      2          6        3   42,13     4,5    29,38   \n",
      "89          3       4      4          6        5    40,6     6,4     20,3   \n",
      "\n",
      "   Type_concep  Nbr_reclam  Age_RPV  Anc_RPV  Anc_RPV_PV Qualt_client  \n",
      "80           A           6       42       36          28         0,55  \n",
      "81           C           1       54       35          28         0,41  \n",
      "82           N          17       33       22          22         0,32  \n",
      "83           N          63       40       32          28         0,66  \n",
      "84           N           3       32       28           9         0,67  \n",
      "85           N           5       51       24          24         0,21  \n",
      "86           N          14       50       93          28         0,42  \n",
      "87           N          21       47      137          21         0,38  \n",
      "88           N           7       50      120          36         0,72  \n",
      "89           N           6       46       28           9         1,51  \n",
      "    Classe_PV  Age_PV  Cadre  Non_Cadre  Diplome Age_Moy Anc_Moy Surface_  \\\n",
      "90          3       5      5          6        2   33,55    4,36    44,18   \n",
      "91          4       5      4          4        4   35,25    4,38    35,63   \n",
      "92          5       4      5          1        1   47,17    5,33    40,83   \n",
      "93          5       4      2          3        2    37,6       3       40   \n",
      "94          4       4      1          7        2   41,25    4,75    28,38   \n",
      "95          4       3      3          2        2    38,4       3       34   \n",
      "96          5       2      2          2        1      39       3       67   \n",
      "97          4       3      3          6        4   30,11    2,78    26,67   \n",
      "98          5       1      2          2        2   36,75     2,5       70   \n",
      "99          5       1      4          4        2   40,75    2,63     13,5   \n",
      "\n",
      "   Type_concep  Nbr_reclam  Age_RPV  Anc_RPV  Anc_RPV_PV Qualt_client  \n",
      "90           N          12       37       21          21         0,48  \n",
      "91           N          12       46       35          28         1,59  \n",
      "92           N          19       49       48          48         0,25  \n",
      "93           N           0       49        7           7          1,3  \n",
      "94           N           4       37       21          21         2,82  \n",
      "95           N           1       47        7           7         0,37  \n",
      "96           N           9       41      140          28         0,34  \n",
      "97           N           3       41       28           9         1,11  \n",
      "98           N           1       39        7           7         0,53  \n",
      "99           N           1       47       12          12         0,97  \n",
      "     Classe_PV  Age_PV  Cadre  Non_Cadre  Diplome Age_Moy  Anc_Moy Surface_  \\\n",
      "100          5       1      2          3        2    35,4        2       70   \n",
      "101          5       1      2          2        2    37,5        2    88,75   \n",
      "\n",
      "    Type_concep  Nbr_reclam  Age_RPV  Anc_RPV  Anc_RPV_PV Qualt_client  \n",
      "100           N           1       36       22          22         1,09  \n",
      "101           N           0       34       22          22         0,76  \n"
     ]
    }
   ],
   "source": [
    "for i in draft2:\n",
    "    print(i)"
   ]
  },
  {
   "cell_type": "code",
   "execution_count": 12,
   "metadata": {},
   "outputs": [
    {
     "name": "stderr",
     "output_type": "stream",
     "text": [
      "Invalid requirement: '#'\n",
      "Traceback (most recent call last):\n",
      "  File \"C:\\Users\\OM\\Anaconda3\\lib\\site-packages\\pip\\_vendor\\packaging\\requirements.py\", line 93, in __init__\n",
      "    req = REQUIREMENT.parseString(requirement_string)\n",
      "  File \"C:\\Users\\OM\\Anaconda3\\lib\\site-packages\\pip\\_vendor\\pyparsing.py\", line 1654, in parseString\n",
      "    raise exc\n",
      "  File \"C:\\Users\\OM\\Anaconda3\\lib\\site-packages\\pip\\_vendor\\pyparsing.py\", line 1644, in parseString\n",
      "    loc, tokens = self._parse( instring, 0 )\n",
      "  File \"C:\\Users\\OM\\Anaconda3\\lib\\site-packages\\pip\\_vendor\\pyparsing.py\", line 1402, in _parseNoCache\n",
      "    loc,tokens = self.parseImpl( instring, preloc, doActions )\n",
      "  File \"C:\\Users\\OM\\Anaconda3\\lib\\site-packages\\pip\\_vendor\\pyparsing.py\", line 3417, in parseImpl\n",
      "    loc, exprtokens = e._parse( instring, loc, doActions )\n",
      "  File \"C:\\Users\\OM\\Anaconda3\\lib\\site-packages\\pip\\_vendor\\pyparsing.py\", line 1402, in _parseNoCache\n",
      "    loc,tokens = self.parseImpl( instring, preloc, doActions )\n",
      "  File \"C:\\Users\\OM\\Anaconda3\\lib\\site-packages\\pip\\_vendor\\pyparsing.py\", line 3739, in parseImpl\n",
      "    return self.expr._parse( instring, loc, doActions, callPreParse=False )\n",
      "  File \"C:\\Users\\OM\\Anaconda3\\lib\\site-packages\\pip\\_vendor\\pyparsing.py\", line 1402, in _parseNoCache\n",
      "    loc,tokens = self.parseImpl( instring, preloc, doActions )\n",
      "  File \"C:\\Users\\OM\\Anaconda3\\lib\\site-packages\\pip\\_vendor\\pyparsing.py\", line 3400, in parseImpl\n",
      "    loc, resultlist = self.exprs[0]._parse( instring, loc, doActions, callPreParse=False )\n",
      "  File \"C:\\Users\\OM\\Anaconda3\\lib\\site-packages\\pip\\_vendor\\pyparsing.py\", line 1406, in _parseNoCache\n",
      "    loc,tokens = self.parseImpl( instring, preloc, doActions )\n",
      "  File \"C:\\Users\\OM\\Anaconda3\\lib\\site-packages\\pip\\_vendor\\pyparsing.py\", line 2711, in parseImpl\n",
      "    raise ParseException(instring, loc, self.errmsg, self)\n",
      "pip._vendor.pyparsing.ParseException: Expected W:(abcd...) (at char 0), (line:1, col:1)\n",
      "\n",
      "During handling of the above exception, another exception occurred:\n",
      "\n",
      "Traceback (most recent call last):\n",
      "  File \"C:\\Users\\OM\\Anaconda3\\lib\\site-packages\\pip\\_internal\\req\\constructors.py\", line 253, in install_req_from_line\n",
      "    req = Requirement(req)\n",
      "  File \"C:\\Users\\OM\\Anaconda3\\lib\\site-packages\\pip\\_vendor\\packaging\\requirements.py\", line 96, in __init__\n",
      "    requirement_string[e.loc:e.loc + 8], e.msg\n",
      "pip._vendor.packaging.requirements.InvalidRequirement: Parse error at \"'#'\": Expected W:(abcd...)\n",
      "\n"
     ]
    }
   ],
   "source": [
    "!pip install python-docx  # to ready data from .docx may need to install python-docx by using this command"
   ]
  },
  {
   "cell_type": "code",
   "execution_count": 13,
   "metadata": {},
   "outputs": [],
   "source": [
    "from docx import Document "
   ]
  },
  {
   "cell_type": "code",
   "execution_count": 14,
   "metadata": {},
   "outputs": [],
   "source": [
    "document=Document(\"/Users/OM/Downloads/examples/child.docx\")"
   ]
  },
  {
   "cell_type": "code",
   "execution_count": 15,
   "metadata": {},
   "outputs": [
    {
     "data": {
      "text/plain": [
       "docx.document.Document"
      ]
     },
     "execution_count": 15,
     "metadata": {},
     "output_type": "execute_result"
    }
   ],
   "source": [
    "type(document)"
   ]
  },
  {
   "cell_type": "code",
   "execution_count": 16,
   "metadata": {},
   "outputs": [
    {
     "data": {
      "text/plain": [
       "list"
      ]
     },
     "execution_count": 16,
     "metadata": {},
     "output_type": "execute_result"
    }
   ],
   "source": [
    "type(document.paragraphs)"
   ]
  },
  {
   "cell_type": "code",
   "execution_count": 17,
   "metadata": {},
   "outputs": [
    {
     "data": {
      "text/plain": [
       "''"
      ]
     },
     "execution_count": 17,
     "metadata": {},
     "output_type": "execute_result"
    }
   ],
   "source": [
    "document.paragraphs[0].text"
   ]
  },
  {
   "cell_type": "code",
   "execution_count": 18,
   "metadata": {},
   "outputs": [
    {
     "data": {
      "text/plain": [
       "'Task: Classification'"
      ]
     },
     "execution_count": 18,
     "metadata": {},
     "output_type": "execute_result"
    }
   ],
   "source": [
    "document.paragraphs[10].text"
   ]
  },
  {
   "cell_type": "code",
   "execution_count": 19,
   "metadata": {},
   "outputs": [
    {
     "data": {
      "text/plain": [
       "\"Please refer to the Machine Learning Repository's citation policy\""
      ]
     },
     "execution_count": 19,
     "metadata": {},
     "output_type": "execute_result"
    }
   ],
   "source": [
    "document.paragraphs[25].text"
   ]
  },
  {
   "cell_type": "code",
   "execution_count": 20,
   "metadata": {},
   "outputs": [
    {
     "data": {
      "text/plain": [
       "'Manukau Institute of Technology,'"
      ]
     },
     "execution_count": 20,
     "metadata": {},
     "output_type": "execute_result"
    }
   ],
   "source": [
    "document.paragraphs[5].text"
   ]
  },
  {
   "cell_type": "code",
   "execution_count": 21,
   "metadata": {},
   "outputs": [
    {
     "name": "stdout",
     "output_type": "stream",
     "text": [
      "Data Set Name: Autistic Spectrum Disorder Screening Data for Children  \n",
      "Abstract: Autistic Spectrum Disorder (ASD) is a neurodevelopment  condition associated with significant healthcare costs, and early diagnosis can significantly reduce these. Unfortunately, waiting times for an ASD diagnosis are lengthy and procedures are not cost effective. The economic impact of autism and the increase in the number of ASD cases across the world reveals an urgent need for the development of easily implemented and effective screening methods. Therefore, a time-efficient and accessible ASD screening is imminent to help health professionals and inform individuals whether they should pursue formal clinical diagnosis.  The rapid growth in the number of ASD cases worldwide necessitates datasets related to behaviour traits. However, such datasets are rare making it difficult to perform thorough analyses to improve the efficiency, sensitivity, specificity and predictive accuracy of the ASD screening process. Presently, very limited autism datasets associated with clinical or screening are available and most of them are genetic in nature. Hence, we propose a new dataset related to autism screening of adults that contained 20 features to be utilised for further analysis especially in determining influential autistic traits and improving the classification of ASD cases. In this dataset, we record ten behavioural features (AQ-10-Child) plus ten individuals characteristics that have proved to be effective in detecting the ASD cases from controls in behaviour science. \n",
      "Source: Fadi Fayez Thabtah\n",
      "Department of Digital Technology\n",
      "Manukau Institute of Technology,\n",
      "Auckland, New Zealand\n",
      "@manukau.ac.nz\n",
      "Data Type: Multivariate OR Univariate OR Sequential OR Time-Series OR Text OR Domain-Theory\n",
      "Nominal / categorical, binary and continuous \n",
      "Task: Classification\n",
      "Attribute Type: Categorical, continuous and binary  \n",
      "Area: Medical, health and social science\n",
      "Format Type: Non-Matrix\n",
      "Does your data set contain missing values? Yes\n",
      "Number of Instances (records in your data set): 292\n",
      "Number of Attributes (fields within each record): 21\n",
      "Relevant Information: For Further information about the attributes/feature see below table\n",
      "Attribute Information:\n",
      "Relevant Papers:  \n",
      "1) Tabtah, F. (2017). Autism Spectrum Disorder Screening: Machine Learning Adaptation and DSM-5 Fulfillment. Proceedings of the 1st International Conference on Medical and Health Informatics 2017, pp.1-6. Taichung City, Taiwan, ACM.\n",
      "2) Thabtah, F. (2017). ASDTests. A mobile app for ASD screening. www.asdtests.com [accessed December  20th, 2017].\n",
      "3) Thabtah, F. (2017). Machine Learning in Autistic Spectrum Disorder Behavioural Research: A Review. To Appear in Informatics for Health and Social Care Journal. December, 2017 (in press)\n",
      "Citation Request:\n",
      "Please refer to the Machine Learning Repository's citation policy\n",
      "Data File: I will submit two files. 1-the word document “description file” and 2- the dataset “WordPad” \n"
     ]
    }
   ],
   "source": [
    "index=0\n",
    "for i in document.paragraphs:\n",
    "    index +=1\n",
    "    if (len(i.text)>0):\n",
    "        print(i.text)"
   ]
  },
  {
   "cell_type": "code",
   "execution_count": 22,
   "metadata": {},
   "outputs": [],
   "source": [
    "file_path = \"/Users/OM/Downloads/HandsonMachine-Learning-with-Scikit-2E%20.pdf\""
   ]
  },
  {
   "cell_type": "code",
   "execution_count": 23,
   "metadata": {},
   "outputs": [
    {
     "data": {
      "text/plain": [
       "'/Users/OM/Downloads/HandsonMachine-Learning-with-Scikit-2E%20.pdf'"
      ]
     },
     "execution_count": 23,
     "metadata": {},
     "output_type": "execute_result"
    }
   ],
   "source": [
    "file_path"
   ]
  },
  {
   "cell_type": "code",
   "execution_count": 24,
   "metadata": {},
   "outputs": [
    {
     "name": "stdout",
     "output_type": "stream",
     "text": [
      "Requirement already satisfied: tabula-py in c:\\users\\om\\anaconda3\\lib\\site-packages (2.2.0)\n",
      "Requirement already satisfied: numpy in c:\\users\\om\\anaconda3\\lib\\site-packages (from tabula-py) (1.15.4)\n",
      "Requirement already satisfied: pandas>=0.25.3 in c:\\users\\om\\anaconda3\\lib\\site-packages (from tabula-py) (1.1.2)\n",
      "Requirement already satisfied: distro in c:\\users\\om\\anaconda3\\lib\\site-packages (from tabula-py) (1.5.0)\n",
      "Requirement already satisfied: python-dateutil>=2.7.3 in c:\\users\\om\\anaconda3\\lib\\site-packages (from pandas>=0.25.3->tabula-py) (2.7.5)\n",
      "Requirement already satisfied: pytz>=2017.2 in c:\\users\\om\\anaconda3\\lib\\site-packages (from pandas>=0.25.3->tabula-py) (2018.7)\n",
      "Requirement already satisfied: six>=1.5 in c:\\users\\om\\anaconda3\\lib\\site-packages (from python-dateutil>=2.7.3->pandas>=0.25.3->tabula-py) (1.12.0)\n"
     ]
    }
   ],
   "source": [
    "!pip install tabula-py "
   ]
  },
  {
   "cell_type": "code",
   "execution_count": 25,
   "metadata": {},
   "outputs": [],
   "source": [
    "from tabula import read_pdf"
   ]
  },
  {
   "cell_type": "code",
   "execution_count": 28,
   "metadata": {},
   "outputs": [
    {
     "name": "stderr",
     "output_type": "stream",
     "text": [
      "'pages' argument isn't specified.Will extract only from page 1 by default.\n"
     ]
    },
    {
     "data": {
      "text/plain": [
       "[    Unnamed: 0    Unnamed: 1 Unnamed: 2   Unnamed: 3    Unnamed: 4  \\\n",
       " 0          NaN           NaN        NaN      Ballots           NaN   \n",
       " 1   Disability           NaN    Ballots          NaN           NaN   \n",
       " 2          NaN  Participants        NaN  Incomplete/           NaN   \n",
       " 3     Category           NaN  Completed          NaN      Accuracy   \n",
       " 4          NaN           NaN        NaN   Terminated           NaN   \n",
       " 5          NaN           NaN        NaN          NaN           NaN   \n",
       " 6        Blind             5          1            4    34.5%, n=1   \n",
       " 7   Low Vision             5          2            3     98.3% n=2   \n",
       " 8          NaN           NaN        NaN          NaN  (97.7%, n=3)   \n",
       " 9    Dexterity             5          4            1    98.3%, n=4   \n",
       " 10    Mobility             3          3            0    95.4%, n=3   \n",
       " \n",
       "             Results  \n",
       " 0               NaN  \n",
       " 1               NaN  \n",
       " 2               NaN  \n",
       " 3           Time to  \n",
       " 4               NaN  \n",
       " 5          complete  \n",
       " 6     1199 sec, n=1  \n",
       " 7     1716 sec, n=3  \n",
       " 8   (1934 sec, n=2)  \n",
       " 9   1672.1 sec, n=4  \n",
       " 10    1416 sec, n=3  ]"
      ]
     },
     "execution_count": 28,
     "metadata": {},
     "output_type": "execute_result"
    }
   ],
   "source": [
    "df = read_pdf(\"/Users/OM/Downloads/table.pdf\")\n",
    "df"
   ]
  },
  {
   "cell_type": "code",
   "execution_count": null,
   "metadata": {},
   "outputs": [],
   "source": []
  },
  {
   "cell_type": "code",
   "execution_count": null,
   "metadata": {},
   "outputs": [],
   "source": []
  }
 ],
 "metadata": {
  "kernelspec": {
   "display_name": "Python 3",
   "language": "python",
   "name": "python3"
  },
  "language_info": {
   "codemirror_mode": {
    "name": "ipython",
    "version": 3
   },
   "file_extension": ".py",
   "mimetype": "text/x-python",
   "name": "python",
   "nbconvert_exporter": "python",
   "pygments_lexer": "ipython3",
   "version": "3.7.1"
  }
 },
 "nbformat": 4,
 "nbformat_minor": 2
}
